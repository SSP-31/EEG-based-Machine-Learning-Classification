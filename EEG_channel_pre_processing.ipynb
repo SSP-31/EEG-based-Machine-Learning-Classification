{
  "nbformat": 4,
  "nbformat_minor": 0,
  "metadata": {
    "colab": {
      "provenance": []
    },
    "kernelspec": {
      "name": "python3",
      "display_name": "Python 3"
    },
    "language_info": {
      "name": "python"
    }
  },
  "cells": [
    {
      "cell_type": "code",
      "execution_count": null,
      "metadata": {
        "colab": {
          "base_uri": "https://localhost:8080/",
          "height": 138
        },
        "id": "hggtLTgmm4AD",
        "outputId": "707ab4ae-0fb6-49f1-a7b8-d58a226811b0"
      },
      "outputs": [
        {
          "output_type": "stream",
          "name": "stdout",
          "text": [
            "Applying bandpass filter...\n",
            "Normalizing the data...\n",
            "Removing outliers...\n",
            "Saving preprocessed data to preprocessed_eeg_data_divya.csv...\n"
          ]
        },
        {
          "output_type": "display_data",
          "data": {
            "text/plain": [
              "<IPython.core.display.Javascript object>"
            ],
            "application/javascript": [
              "\n",
              "    async function download(id, filename, size) {\n",
              "      if (!google.colab.kernel.accessAllowed) {\n",
              "        return;\n",
              "      }\n",
              "      const div = document.createElement('div');\n",
              "      const label = document.createElement('label');\n",
              "      label.textContent = `Downloading \"${filename}\": `;\n",
              "      div.appendChild(label);\n",
              "      const progress = document.createElement('progress');\n",
              "      progress.max = size;\n",
              "      div.appendChild(progress);\n",
              "      document.body.appendChild(div);\n",
              "\n",
              "      const buffers = [];\n",
              "      let downloaded = 0;\n",
              "\n",
              "      const channel = await google.colab.kernel.comms.open(id);\n",
              "      // Send a message to notify the kernel that we're ready.\n",
              "      channel.send({})\n",
              "\n",
              "      for await (const message of channel.messages) {\n",
              "        // Send a message to notify the kernel that we're ready.\n",
              "        channel.send({})\n",
              "        if (message.buffers) {\n",
              "          for (const buffer of message.buffers) {\n",
              "            buffers.push(buffer);\n",
              "            downloaded += buffer.byteLength;\n",
              "            progress.value = downloaded;\n",
              "          }\n",
              "        }\n",
              "      }\n",
              "      const blob = new Blob(buffers, {type: 'application/binary'});\n",
              "      const a = document.createElement('a');\n",
              "      a.href = window.URL.createObjectURL(blob);\n",
              "      a.download = filename;\n",
              "      div.appendChild(a);\n",
              "      a.click();\n",
              "      div.remove();\n",
              "    }\n",
              "  "
            ]
          },
          "metadata": {}
        },
        {
          "output_type": "display_data",
          "data": {
            "text/plain": [
              "<IPython.core.display.Javascript object>"
            ],
            "application/javascript": [
              "download(\"download_ff449b17-ddbf-491a-bb54-f92b1cb89520\", \"preprocessed_eeg_data_divya.csv\", 14384836)"
            ]
          },
          "metadata": {}
        },
        {
          "output_type": "stream",
          "name": "stdout",
          "text": [
            "Preprocessing complete!\n"
          ]
        },
        {
          "output_type": "display_data",
          "data": {
            "text/plain": [
              "<IPython.core.display.Javascript object>"
            ],
            "application/javascript": [
              "\n",
              "    async function download(id, filename, size) {\n",
              "      if (!google.colab.kernel.accessAllowed) {\n",
              "        return;\n",
              "      }\n",
              "      const div = document.createElement('div');\n",
              "      const label = document.createElement('label');\n",
              "      label.textContent = `Downloading \"${filename}\": `;\n",
              "      div.appendChild(label);\n",
              "      const progress = document.createElement('progress');\n",
              "      progress.max = size;\n",
              "      div.appendChild(progress);\n",
              "      document.body.appendChild(div);\n",
              "\n",
              "      const buffers = [];\n",
              "      let downloaded = 0;\n",
              "\n",
              "      const channel = await google.colab.kernel.comms.open(id);\n",
              "      // Send a message to notify the kernel that we're ready.\n",
              "      channel.send({})\n",
              "\n",
              "      for await (const message of channel.messages) {\n",
              "        // Send a message to notify the kernel that we're ready.\n",
              "        channel.send({})\n",
              "        if (message.buffers) {\n",
              "          for (const buffer of message.buffers) {\n",
              "            buffers.push(buffer);\n",
              "            downloaded += buffer.byteLength;\n",
              "            progress.value = downloaded;\n",
              "          }\n",
              "        }\n",
              "      }\n",
              "      const blob = new Blob(buffers, {type: 'application/binary'});\n",
              "      const a = document.createElement('a');\n",
              "      a.href = window.URL.createObjectURL(blob);\n",
              "      a.download = filename;\n",
              "      div.appendChild(a);\n",
              "      a.click();\n",
              "      div.remove();\n",
              "    }\n",
              "  "
            ]
          },
          "metadata": {}
        },
        {
          "output_type": "display_data",
          "data": {
            "text/plain": [
              "<IPython.core.display.Javascript object>"
            ],
            "application/javascript": [
              "download(\"download_b826cb35-6e20-4ecc-84bf-32a4edd73525\", \"preprocessed_eeg_data_divya.csv\", 14384836)"
            ]
          },
          "metadata": {}
        }
      ],
      "source": [
        "import pandas as pd\n",
        "import numpy as np\n",
        "from scipy.signal import butter, lfilter\n",
        "from sklearn.preprocessing import StandardScaler\n",
        "from scipy.stats import zscore\n",
        "\n",
        "# Define bandpass filter\n",
        "def bandpass_filter(data, lowcut, highcut, fs, order=4):\n",
        "    nyquist = 0.5 * fs\n",
        "    low = lowcut / nyquist\n",
        "    high = highcut / nyquist\n",
        "    b, a = butter(order, [low, high], btype='band')\n",
        "    return lfilter(b, a, data)\n",
        "\n",
        "# Load EEG data from CSV\n",
        "file_path = \"/content/drive/MyDrive/RAW EEG_Clean/divya-chess_EPOCX_204902_2024.11.24T15.55.21+05.30.mc.pm.fe.bp.csv\"  # Replace with your file path\n",
        "eeg_data = pd.read_csv(file_path)\n",
        "\n",
        "# Separate EEG.Counter and EEG signals\n",
        "eeg_counter = eeg_data['EEG.Counter']  # Keep EEG.Counter separate\n",
        "eeg_signals = eeg_data.drop(columns=['EEG.Counter'])  # Process only EEG signal columns\n",
        "\n",
        "# Check for missing values and handle them\n",
        "if eeg_signals.isnull().sum().sum() > 0:\n",
        "    print(\"Handling missing values...\")\n",
        "    eeg_signals = eeg_signals.fillna(eeg_signals.mean())\n",
        "\n",
        "# Apply bandpass filter to EEG signals\n",
        "fs = 128  # Sampling frequency in Hz (adjust to your dataset)\n",
        "lowcut = 0.1  # Low cutoff frequency in Hz\n",
        "highcut = 45  # High cutoff frequency in Hz\n",
        "\n",
        "print(\"Applying bandpass filter...\")\n",
        "filtered_signals = eeg_signals.apply(lambda col: bandpass_filter(col, lowcut, highcut, fs))\n",
        "\n",
        "# Normalize the filtered signals\n",
        "print(\"Normalizing the data...\")\n",
        "scaler = StandardScaler()\n",
        "normalized_signals = pd.DataFrame(scaler.fit_transform(filtered_signals), columns=filtered_signals.columns)\n",
        "\n",
        "# Remove outliers using z-score\n",
        "print(\"Removing outliers...\")\n",
        "z_scores = np.abs(zscore(normalized_signals))\n",
        "threshold = 3  # Common threshold for z-score\n",
        "cleaned_signals = normalized_signals[(z_scores < threshold).all(axis=1)]\n",
        "\n",
        "# Retain corresponding EEG.Counter values for the cleaned signals\n",
        "cleaned_counter = eeg_counter[cleaned_signals.index]\n",
        "\n",
        "# Combine cleaned EEG.Counter and signals into one DataFrame\n",
        "preprocessed_data = pd.concat([cleaned_counter.reset_index(drop=True), cleaned_signals.reset_index(drop=True)], axis=1)\n",
        "\n",
        "# Save the preprocessed data to a new CSV file\n",
        "output_file = \"preprocessed_eeg_data_divya.csv\"\n",
        "print(f\"Saving preprocessed data to {output_file}...\")\n",
        "preprocessed_data.to_csv(output_file, index=False)\n",
        "\n",
        "# If using Google Colab, download the file\n",
        "try:\n",
        "    from google.colab import files\n",
        "    files.download(output_file)\n",
        "except ImportError:\n",
        "    print(\"Not running in Google Colab. File saved locally.\")\n",
        "\n",
        "print(\"Preprocessing complete!\")\n",
        "\n",
        "# Download the file\n",
        "files.download(output_file)\n",
        "\n"
      ]
    }
  ]
}